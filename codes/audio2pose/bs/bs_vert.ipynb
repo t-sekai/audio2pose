{
 "cells": [
  {
   "cell_type": "code",
   "execution_count": 1,
   "metadata": {},
   "outputs": [],
   "source": [
    "import numpy as np\n",
    "import trimesh\n",
    "import torch"
   ]
  },
  {
   "cell_type": "code",
   "execution_count": 2,
   "metadata": {},
   "outputs": [],
   "source": [
    "V_basis = trimesh.load('Basis.obj')\n",
    "V_basis = torch.tensor(V_basis.vertices)"
   ]
  },
  {
   "cell_type": "code",
   "execution_count": 3,
   "metadata": {},
   "outputs": [],
   "source": [
    "blend =  [\n",
    "        \"browDownLeft\",\n",
    "        \"browDownRight\",\n",
    "        \"browInnerUp\",\n",
    "        \"browOuterUpLeft\",\n",
    "        \"browOuterUpRight\",\n",
    "        \"cheekPuff\",\n",
    "        \"cheekSquintLeft\",\n",
    "        \"cheekSquintRight\",\n",
    "        \"eyeBlinkLeft\",\n",
    "        \"eyeBlinkRight\",\n",
    "        \"eyeLookDownLeft\",\n",
    "        \"eyeLookDownRight\",\n",
    "        \"eyeLookInLeft\",\n",
    "        \"eyeLookInRight\",\n",
    "        \"eyeLookOutLeft\",\n",
    "        \"eyeLookOutRight\",\n",
    "        \"eyeLookUpLeft\",\n",
    "        \"eyeLookUpRight\",\n",
    "        \"eyeSquintLeft\",\n",
    "        \"eyeSquintRight\",\n",
    "        \"eyeWideLeft\",\n",
    "        \"eyeWideRight\",\n",
    "        \"jawForward\",\n",
    "        \"jawLeft\",\n",
    "        \"jawOpen\",\n",
    "        \"jawRight\",\n",
    "        \"mouthClose\",\n",
    "        \"mouthDimpleLeft\",\n",
    "        \"mouthDimpleRight\",\n",
    "        \"mouthFrownLeft\",\n",
    "        \"mouthFrownRight\",\n",
    "        \"mouthFunnel\",\n",
    "        \"mouthLeft\",\n",
    "        \"mouthLowerDownLeft\",\n",
    "        \"mouthLowerDownRight\",\n",
    "        \"mouthPressLeft\",\n",
    "        \"mouthPressRight\",\n",
    "        \"mouthPucker\",\n",
    "        \"mouthRight\",\n",
    "        \"mouthRollLower\",\n",
    "        \"mouthRollUpper\",\n",
    "        \"mouthShrugLower\",\n",
    "        \"mouthShrugUpper\",\n",
    "        \"mouthSmileLeft\",\n",
    "        \"mouthSmileRight\",\n",
    "        \"mouthStretchLeft\",\n",
    "        \"mouthStretchRight\",\n",
    "        \"mouthUpperUpLeft\",\n",
    "        \"mouthUpperUpRight\",\n",
    "        \"noseSneerLeft\",\n",
    "        \"noseSneerRight\",\n",
    "        \"tongueOut\"\n",
    "    ]"
   ]
  },
  {
   "cell_type": "code",
   "execution_count": 34,
   "metadata": {},
   "outputs": [
    {
     "name": "stdout",
     "output_type": "stream",
     "text": [
      "torch.Size([51, 5023, 3])\n"
     ]
    }
   ],
   "source": [
    "V_blendshapes = [torch.tensor(trimesh.load(f'exp/{bs_name}.obj').vertices) for bs_name in blend[:51]]\n",
    "V_blendshapes = torch.stack(V_blendshapes)\n",
    "print(V_blendshapes.shape)"
   ]
  },
  {
   "cell_type": "code",
   "execution_count": 74,
   "metadata": {},
   "outputs": [],
   "source": [
    "W = torch.zeros((16,34,51))"
   ]
  },
  {
   "cell_type": "code",
   "execution_count": 75,
   "metadata": {},
   "outputs": [
    {
     "data": {
      "text/plain": [
       "torch.Size([1, 1, 51, 5023, 3])"
      ]
     },
     "execution_count": 75,
     "metadata": {},
     "output_type": "execute_result"
    }
   ],
   "source": [
    "deltas = V_blendshapes - V_basis.unsqueeze(0)\n",
    "deltas = deltas.unsqueeze(0).unsqueeze(0)\n",
    "deltas.shape"
   ]
  },
  {
   "cell_type": "code",
   "execution_count": 77,
   "metadata": {},
   "outputs": [
    {
     "name": "stdout",
     "output_type": "stream",
     "text": [
      "torch.Size([16, 34, 5023, 3])\n"
     ]
    }
   ],
   "source": [
    "weighted_deltas = W.unsqueeze(3).unsqueeze(4) * deltas\n",
    "sum_weighted_deltas = torch.sum(weighted_deltas, axis=2)\n",
    "print(sum_weighted_deltas.shape)"
   ]
  },
  {
   "cell_type": "code",
   "execution_count": 78,
   "metadata": {},
   "outputs": [],
   "source": [
    "V_result = V_basis + sum_weighted_deltas"
   ]
  },
  {
   "cell_type": "code",
   "execution_count": 79,
   "metadata": {},
   "outputs": [
    {
     "data": {
      "text/plain": [
       "0.0"
      ]
     },
     "execution_count": 79,
     "metadata": {},
     "output_type": "execute_result"
    }
   ],
   "source": [
    "np.average(V_result - V_basis)"
   ]
  },
  {
   "cell_type": "code",
   "execution_count": 130,
   "metadata": {},
   "outputs": [],
   "source": [
    "W = torch.zeros((16,34,51))\n",
    "W[:,:,0] = 1\n",
    "weighted_deltas = W.unsqueeze(3).unsqueeze(4) * deltas\n",
    "sum_weighted_deltas = torch.sum(weighted_deltas, axis=2)"
   ]
  },
  {
   "cell_type": "code",
   "execution_count": 133,
   "metadata": {},
   "outputs": [
    {
     "name": "stdout",
     "output_type": "stream",
     "text": [
      "torch.Size([1, 1, 51, 5023, 3])\n"
     ]
    }
   ],
   "source": [
    "print(deltas.shape)"
   ]
  },
  {
   "cell_type": "code",
   "execution_count": 132,
   "metadata": {},
   "outputs": [
    {
     "data": {
      "text/plain": [
       "1.483951808846873e-23"
      ]
     },
     "execution_count": 132,
     "metadata": {},
     "output_type": "execute_result"
    }
   ],
   "source": [
    "V_result = V_basis.unsqueeze(0).unsqueeze(0).expand(W.shape[0], W.shape[1], -1, -1) + sum_weighted_deltas\n",
    "np.average(V_result - V_blendshapes[0].unsqueeze(0).unsqueeze(0).expand(W.shape[0], W.shape[1], -1, -1))"
   ]
  },
  {
   "cell_type": "code",
   "execution_count": 106,
   "metadata": {},
   "outputs": [
    {
     "name": "stdout",
     "output_type": "stream",
     "text": [
      "torch.Size([16, 34, 5023, 3])\n"
     ]
    }
   ],
   "source": [
    "print(V_result.shape)"
   ]
  },
  {
   "cell_type": "code",
   "execution_count": null,
   "metadata": {},
   "outputs": [],
   "source": []
  }
 ],
 "metadata": {
  "kernelspec": {
   "display_name": "beat",
   "language": "python",
   "name": "python3"
  },
  "language_info": {
   "codemirror_mode": {
    "name": "ipython",
    "version": 3
   },
   "file_extension": ".py",
   "mimetype": "text/x-python",
   "name": "python",
   "nbconvert_exporter": "python",
   "pygments_lexer": "ipython3",
   "version": "3.9.18"
  }
 },
 "nbformat": 4,
 "nbformat_minor": 2
}
