{
 "cells": [
  {
   "cell_type": "code",
   "execution_count": 2,
   "metadata": {},
   "outputs": [],
   "source": [
    "import os\n",
    "import librosa\n",
    "import numpy as np"
   ]
  },
  {
   "cell_type": "code",
   "execution_count": 9,
   "metadata": {},
   "outputs": [],
   "source": [
    "# Specify the base directory of your audio files\n",
    "base_dir = \"S:\\\\audio2pose\\\\datasets\\\\beat_english_v0.2.1\\\\\"\n",
    "\n",
    "# Iterate over each subdirectory in the base directory\n",
    "for subdir in os.listdir(base_dir):\n",
    "    subdir_path = os.path.join(base_dir, subdir)    \n",
    "    # Check if it's indeed a directory\n",
    "    if os.path.isdir(subdir_path):\n",
    "        # List all WAV files in this subdirectory\n",
    "        for file in os.listdir(subdir_path):\n",
    "            if file.endswith(\".wav\"):\n",
    "                file_path = os.path.join(subdir_path, file)\n",
    "                \n",
    "                # Load the audio file with librosa\n",
    "                audio, sr = librosa.load(file_path, sr=16000)\n",
    "                \n",
    "                # Prepare the .npy filename\n",
    "                npy_filename = os.path.splitext(file)[0] + \".npy\"\n",
    "                npy_path = os.path.join(subdir_path, npy_filename)\n",
    "                \n",
    "                # Save the audio data as a .npy file\n",
    "                np.save(npy_path, audio)\n",
    "                #print(f\"Saved {npy_path}\")"
   ]
  },
  {
   "cell_type": "code",
   "execution_count": null,
   "metadata": {},
   "outputs": [],
   "source": [
    "a = librosa.load(sr=16000)\n",
    "np.save(a)"
   ]
  }
 ],
 "metadata": {
  "kernelspec": {
   "display_name": "beat",
   "language": "python",
   "name": "python3"
  },
  "language_info": {
   "codemirror_mode": {
    "name": "ipython",
    "version": 3
   },
   "file_extension": ".py",
   "mimetype": "text/x-python",
   "name": "python",
   "nbconvert_exporter": "python",
   "pygments_lexer": "ipython3",
   "version": "3.9.18"
  }
 },
 "nbformat": 4,
 "nbformat_minor": 2
}
